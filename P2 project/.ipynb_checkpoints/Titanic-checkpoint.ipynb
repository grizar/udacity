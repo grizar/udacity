{
 "cells": [
  {
   "cell_type": "markdown",
   "metadata": {},
   "source": [
    "# Titanic passenger data analysis\n",
    "\n",
    "Alain Roghi - alain.roghi@airbus.com\n"
   ]
  },
  {
   "cell_type": "markdown",
   "metadata": {},
   "source": [
    "This document is an a analysis of the Titanic passenger data.\n",
    "This analysis is based on data set titanic-data.csv downloaded from the Udacity P2 project page.\n",
    "\n",
    "## Background information (extract from Wikipedia)\n",
    "\n",
    "RMS Titanic was a British passenger liner that sank in the North Atlantic Ocean in the early morning of 15 April 1912, after colliding with an iceberg during her maiden voyage from Southampton to New York City. Of the 2,224 passengers and crew aboard, more than 1,500 died, making it one of the deadliest commercial peacetime maritime disasters in modern history. The largest ship afloat at the time it entered service, the RMS Titanic was the second of three Olympic class ocean liners operated by the White Star Line, and was built by the Harland and Wolff shipyard in Belfast. Thomas Andrews, her architect, died in the disaster.\n"
   ]
  },
  {
   "cell_type": "markdown",
   "metadata": {},
   "source": [
    "## Problem statement\n",
    "\n",
    "We want to be able to answer the following questions:\n",
    "* What is percentage of surviving people for each passenger class\n",
    "* Is there a correlation between surviving people of their respective passenger class\n",
    "* What is the percentage of surviving people per gender\n",
    "* What is the age distribution of surviving and died people\n",
    "* What was the average fare per passenger class and associated standard deviation (paying passengers only)\n",
    "\n"
   ]
  },
  {
   "cell_type": "code",
   "execution_count": 56,
   "metadata": {
    "collapsed": false
   },
   "outputs": [
    {
     "name": "stdout",
     "output_type": "stream",
     "text": [
      "Populating the interactive namespace from numpy and matplotlib\n"
     ]
    },
    {
     "data": {
      "text/html": [
       "<div>\n",
       "<table border=\"1\" class=\"dataframe\">\n",
       "  <thead>\n",
       "    <tr style=\"text-align: right;\">\n",
       "      <th></th>\n",
       "      <th>PassengerId</th>\n",
       "      <th>Survived</th>\n",
       "      <th>Pclass</th>\n",
       "      <th>Name</th>\n",
       "      <th>Sex</th>\n",
       "      <th>Age</th>\n",
       "      <th>SibSp</th>\n",
       "      <th>Parch</th>\n",
       "      <th>Ticket</th>\n",
       "      <th>Fare</th>\n",
       "      <th>Cabin</th>\n",
       "      <th>Embarked</th>\n",
       "    </tr>\n",
       "  </thead>\n",
       "  <tbody>\n",
       "    <tr>\n",
       "      <th>0</th>\n",
       "      <td>1</td>\n",
       "      <td>0</td>\n",
       "      <td>3</td>\n",
       "      <td>Braund, Mr. Owen Harris</td>\n",
       "      <td>male</td>\n",
       "      <td>22.0</td>\n",
       "      <td>1</td>\n",
       "      <td>0</td>\n",
       "      <td>A/5 21171</td>\n",
       "      <td>7.2500</td>\n",
       "      <td>NaN</td>\n",
       "      <td>S</td>\n",
       "    </tr>\n",
       "    <tr>\n",
       "      <th>1</th>\n",
       "      <td>2</td>\n",
       "      <td>1</td>\n",
       "      <td>1</td>\n",
       "      <td>Cumings, Mrs. John Bradley (Florence Briggs Th...</td>\n",
       "      <td>female</td>\n",
       "      <td>38.0</td>\n",
       "      <td>1</td>\n",
       "      <td>0</td>\n",
       "      <td>PC 17599</td>\n",
       "      <td>71.2833</td>\n",
       "      <td>C85</td>\n",
       "      <td>C</td>\n",
       "    </tr>\n",
       "    <tr>\n",
       "      <th>2</th>\n",
       "      <td>3</td>\n",
       "      <td>1</td>\n",
       "      <td>3</td>\n",
       "      <td>Heikkinen, Miss. Laina</td>\n",
       "      <td>female</td>\n",
       "      <td>26.0</td>\n",
       "      <td>0</td>\n",
       "      <td>0</td>\n",
       "      <td>STON/O2. 3101282</td>\n",
       "      <td>7.9250</td>\n",
       "      <td>NaN</td>\n",
       "      <td>S</td>\n",
       "    </tr>\n",
       "  </tbody>\n",
       "</table>\n",
       "</div>"
      ],
      "text/plain": [
       "   PassengerId  Survived  Pclass  \\\n",
       "0            1         0       3   \n",
       "1            2         1       1   \n",
       "2            3         1       3   \n",
       "\n",
       "                                                Name     Sex   Age  SibSp  \\\n",
       "0                            Braund, Mr. Owen Harris    male  22.0      1   \n",
       "1  Cumings, Mrs. John Bradley (Florence Briggs Th...  female  38.0      1   \n",
       "2                             Heikkinen, Miss. Laina  female  26.0      0   \n",
       "\n",
       "   Parch            Ticket     Fare Cabin Embarked  \n",
       "0      0         A/5 21171   7.2500   NaN        S  \n",
       "1      0          PC 17599  71.2833   C85        C  \n",
       "2      0  STON/O2. 3101282   7.9250   NaN        S  "
      ]
     },
     "execution_count": 56,
     "metadata": {},
     "output_type": "execute_result"
    }
   ],
   "source": [
    "%matplotlib inline\n",
    "%pylab inline\n",
    "\n",
    "import numpy as np\n",
    "import pandas as pd\n",
    "import seaborn as sns\n",
    "\n",
    "# Loading dataset\n",
    "path = './'\n",
    "passengers = pd.read_csv(path + 'titanic-data.csv')\n",
    "passengers.head(3)\n",
    "\n"
   ]
  },
  {
   "cell_type": "markdown",
   "metadata": {
    "collapsed": true
   },
   "source": [
    "# Data format (source : Kaggle web site - https://www.kaggle.com/c/titanic/data)\n",
    "\n",
    "VARIABLE DESCRIPTIONS:\n",
    "survival        Survival\n",
    "                (0 = No; 1 = Yes)\n",
    "pclass          Passenger Class\n",
    "                (1 = 1st; 2 = 2nd; 3 = 3rd)\n",
    "name            Name\n",
    "sex             Sex\n",
    "age             Age\n",
    "sibsp           Number of Siblings/Spouses Aboard\n",
    "parch           Number of Parents/Children Aboard\n",
    "ticket          Ticket Number\n",
    "fare            Passenger Fare\n",
    "cabin           Cabin\n",
    "embarked        Port of Embarkation\n",
    "                (C = Cherbourg; Q = Q ueenstown; S = Southampton)\n",
    "\n",
    "SPECIAL NOTES:\n",
    "Pclass is a proxy for socio-economic status (SES)\n",
    " 1st ~ Upper; 2nd ~ Middle; 3rd ~ Lower\n",
    "\n",
    "Age is in Years; Fractional if Age less than One (1)\n",
    " If the Age is Estimated, it is in the form xx.5\n",
    "\n",
    "With respect to the family relation variables (i.e. sibsp and parch) some relations were ignored.  The following are the definitions used for sibsp and parch.\n",
    "\n",
    "Sibling:  Brother, Sister, Stepbrother, or Stepsister of Passenger Aboard Titanic\n",
    "Spouse:   Husband or Wife of Passenger Aboard Titanic (Mistresses and Fiances Ignored)\n",
    "Parent:   Mother or Father of Passenger Aboard Titanic\n",
    "Child:    Son, Daughter, Stepson, or Stepdaughter of Passenger Aboard Titanic\n",
    "\n",
    "Other family relatives excluded from this study include cousins, nephews/nieces, aunts/uncles, and in-laws.  Some children travelled only with a nanny, therefore parch=0 for them.  As well, some travelled with very close friends or neighbors in a village, however, the definitions do not support such relations."
   ]
  },
  {
   "cell_type": "markdown",
   "metadata": {},
   "source": [
    "# Data exploration\n",
    "\n",
    "We can already notice there are discrepencies between the file and the content description. Some headers are either not the same (Survived vs survival) or written with a different case (pclass vs Pclass).\n",
    "\n",
    "We can also see that some information are not described (for instance the Fare for which we do not know the associated currency).\n",
    "\n",
    "We will perform some basic data exploration on the whole file in order to check data quality.\n",
    "\n",
    "\n"
   ]
  },
  {
   "cell_type": "code",
   "execution_count": 57,
   "metadata": {
    "collapsed": false,
    "scrolled": false
   },
   "outputs": [
    {
     "name": "stdout",
     "output_type": "stream",
     "text": [
      "Number of values in each column\n",
      "PassengerId    891\n",
      "Survived       891\n",
      "Pclass         891\n",
      "Name           891\n",
      "Sex            891\n",
      "Age            714\n",
      "SibSp          891\n",
      "Parch          891\n",
      "Ticket         891\n",
      "Fare           891\n",
      "Cabin          204\n",
      "Embarked       889\n",
      "dtype: int64\n",
      "\n",
      "Check if their is non described values is some columns\n",
      "Survived [0 1]\n",
      "Pclass   [3 1 2]\n",
      "Sex      ['male' 'female']\n",
      "SibSp    [1 0 3 4 2 5 8]\n",
      "Parch    [0 1 2 5 3 4 6]\n",
      "Embarked ['S' 'C' 'Q' nan]\n"
     ]
    }
   ],
   "source": [
    "print \"Number of values in each column\"\n",
    "print passengers.count()\n",
    "\n",
    "\n",
    "print \"\\nCheck if their is non described values is some columns\"\n",
    "print \"Survived %s\" % passengers['Survived'].unique()\n",
    "print \"Pclass   %s\" % passengers['Pclass'].unique()\n",
    "print \"Sex      %s\" % passengers['Sex'].unique()\n",
    "print \"SibSp    %s\" % passengers['SibSp'].unique()\n",
    "print \"Parch    %s\" % passengers['Parch'].unique()\n",
    "print \"Embarked %s\" % passengers['Embarked'].unique()\n"
   ]
  },
  {
   "cell_type": "markdown",
   "metadata": {},
   "source": [
    "# Data modification\n",
    "\n",
    "We will apply two modifications.\n",
    "1st: We will change the value of the survived column in order to be more explicit than 0 and 1.\n",
    "2nd: We are interested about people being on board of the Titanic. We will excluded people with an Embarked harbour value\n"
   ]
  },
  {
   "cell_type": "code",
   "execution_count": 58,
   "metadata": {
    "collapsed": false
   },
   "outputs": [
    {
     "data": {
      "text/html": [
       "<div>\n",
       "<table border=\"1\" class=\"dataframe\">\n",
       "  <thead>\n",
       "    <tr style=\"text-align: right;\">\n",
       "      <th></th>\n",
       "      <th>PassengerId</th>\n",
       "      <th>Survived</th>\n",
       "      <th>Pclass</th>\n",
       "      <th>Name</th>\n",
       "      <th>Sex</th>\n",
       "      <th>Age</th>\n",
       "      <th>SibSp</th>\n",
       "      <th>Parch</th>\n",
       "      <th>Ticket</th>\n",
       "      <th>Fare</th>\n",
       "      <th>Cabin</th>\n",
       "      <th>Embarked</th>\n",
       "      <th>SurvivedT</th>\n",
       "    </tr>\n",
       "  </thead>\n",
       "  <tbody>\n",
       "    <tr>\n",
       "      <th>0</th>\n",
       "      <td>1</td>\n",
       "      <td>0</td>\n",
       "      <td>3</td>\n",
       "      <td>Braund, Mr. Owen Harris</td>\n",
       "      <td>male</td>\n",
       "      <td>22.0</td>\n",
       "      <td>1</td>\n",
       "      <td>0</td>\n",
       "      <td>A/5 21171</td>\n",
       "      <td>7.2500</td>\n",
       "      <td>NaN</td>\n",
       "      <td>S</td>\n",
       "      <td>Died</td>\n",
       "    </tr>\n",
       "    <tr>\n",
       "      <th>1</th>\n",
       "      <td>2</td>\n",
       "      <td>1</td>\n",
       "      <td>1</td>\n",
       "      <td>Cumings, Mrs. John Bradley (Florence Briggs Th...</td>\n",
       "      <td>female</td>\n",
       "      <td>38.0</td>\n",
       "      <td>1</td>\n",
       "      <td>0</td>\n",
       "      <td>PC 17599</td>\n",
       "      <td>71.2833</td>\n",
       "      <td>C85</td>\n",
       "      <td>C</td>\n",
       "      <td>Survived</td>\n",
       "    </tr>\n",
       "    <tr>\n",
       "      <th>2</th>\n",
       "      <td>3</td>\n",
       "      <td>1</td>\n",
       "      <td>3</td>\n",
       "      <td>Heikkinen, Miss. Laina</td>\n",
       "      <td>female</td>\n",
       "      <td>26.0</td>\n",
       "      <td>0</td>\n",
       "      <td>0</td>\n",
       "      <td>STON/O2. 3101282</td>\n",
       "      <td>7.9250</td>\n",
       "      <td>NaN</td>\n",
       "      <td>S</td>\n",
       "      <td>Survived</td>\n",
       "    </tr>\n",
       "  </tbody>\n",
       "</table>\n",
       "</div>"
      ],
      "text/plain": [
       "   PassengerId  Survived  Pclass  \\\n",
       "0            1         0       3   \n",
       "1            2         1       1   \n",
       "2            3         1       3   \n",
       "\n",
       "                                                Name     Sex   Age  SibSp  \\\n",
       "0                            Braund, Mr. Owen Harris    male  22.0      1   \n",
       "1  Cumings, Mrs. John Bradley (Florence Briggs Th...  female  38.0      1   \n",
       "2                             Heikkinen, Miss. Laina  female  26.0      0   \n",
       "\n",
       "   Parch            Ticket     Fare Cabin Embarked SurvivedT  \n",
       "0      0         A/5 21171   7.2500   NaN        S      Died  \n",
       "1      0          PC 17599  71.2833   C85        C  Survived  \n",
       "2      0  STON/O2. 3101282   7.9250   NaN        S  Survived  "
      ]
     },
     "execution_count": 58,
     "metadata": {},
     "output_type": "execute_result"
    }
   ],
   "source": [
    "\n",
    "def setlabel(row):\n",
    "    newrow = row\n",
    "    if newrow['Survived'] == 0:\n",
    "        # newrow['Survived'] = 'Survived' \n",
    "        newrow.loc['SurvivedT'] = 'Died'\n",
    "    elif newrow['Survived'] == 1:\n",
    "        # newrow['Survived'] = 'Survived' \n",
    "        newrow.loc['SurvivedT'] = 'Survived'\n",
    "    return newrow\n",
    "\n",
    "# Add a new text column to a string to have a more readable information\n",
    "passengers = passengers.apply(setlabel,axis='columns')\n",
    "\n",
    "# Remove non boarding passengers\n",
    "passengers = passengers[(passengers['Embarked'] == 'Q') | (passengers['Embarked'] == 'S') | (passengers['Embarked'] == 'C')]\n",
    "\n",
    "# Check modification\n",
    "passengers.head(3)\n",
    "\n",
    "\n"
   ]
  },
  {
   "cell_type": "code",
   "execution_count": 59,
   "metadata": {
    "collapsed": false
   },
   "outputs": [
    {
     "name": "stdout",
     "output_type": "stream",
     "text": [
      "PassengerId    889\n",
      "Survived       889\n",
      "Pclass         889\n",
      "Name           889\n",
      "Sex            889\n",
      "Age            712\n",
      "SibSp          889\n",
      "Parch          889\n",
      "Ticket         889\n",
      "Fare           889\n",
      "Cabin          202\n",
      "Embarked       889\n",
      "SurvivedT      889\n",
      "dtype: int64\n",
      "Embarked ['S' 'C' 'Q']\n"
     ]
    }
   ],
   "source": [
    "print passengers.count()\n",
    "print \"Embarked %s\" % passengers['Embarked'].unique()"
   ]
  },
  {
   "cell_type": "markdown",
   "metadata": {
    "collapsed": true
   },
   "source": [
    "From this basic analysis, we can already identify some missing information in the 'Age','Cabin' and 'Embarked' columns.\n",
    "\n"
   ]
  },
  {
   "cell_type": "markdown",
   "metadata": {},
   "source": [
    "# Question 1\n",
    "\n",
    "•What is percentage of surviving people for each passenger class\n"
   ]
  },
  {
   "cell_type": "code",
   "execution_count": 60,
   "metadata": {
    "collapsed": false
   },
   "outputs": [
    {
     "data": {
      "image/png": "[encoded data removed]",
      "text/plain": [
       "<matplotlib.figure.Figure at 0xbb7a2e8>"
      ]
     },
     "metadata": {},
     "output_type": "display_data"
    }
   ],
   "source": [
    "%matplotlib inline\n",
    "\n",
    "# this function normalise from aboslute values to percentage all figures from a data serie\n",
    "def normalise(row):\n",
    "    return 100 * row / row.sum()\n",
    "\n",
    "# this function display a stacked bar chart with corresponding labels and titles\n",
    "def plotstackedbar(data,label1,label2,leftanchor,xlabel,ylabel,title):\n",
    "    chart = data.plot.bar(stacked = True)\n",
    "\n",
    "    # modify legend\n",
    "    handles, labels = chart.get_legend_handles_labels()\n",
    "    labels[0] = label1\n",
    "    labels[1] = label2\n",
    "    chart.legend(handles, labels,bbox_to_anchor=(leftanchor, 0))\n",
    "\n",
    "    # Set titles\n",
    "    chart.set_xlabel(xlabel, fontsize=12)\n",
    "    chart.set_ylabel(ylabel, fontsize=12)\n",
    "    chart.set_title(title, fontsize=12)\n",
    "    \n",
    "survival_per_class = passengers.groupby(['Pclass','Survived'])['PassengerId']\n",
    "data =  survival_per_class.count().unstack()\n",
    "data = data.apply(normalise, axis='columns')\n",
    "\n",
    "plotstackedbar(data,'Died','Survived',0.85,'Class','Percentage','Repartition between surviving and dead passenger per class')\n",
    "\n"
   ]
  },
  {
   "cell_type": "markdown",
   "metadata": {},
   "source": [
    "# Question 1 conclusion\n",
    "\n",
    "We see that better the travel class was, better the survival rate was."
   ]
  },
  {
   "cell_type": "markdown",
   "metadata": {},
   "source": [
    "# Question 2\n",
    "\n",
    "•Is there a correlation between surviving people of their respective passenger class\n"
   ]
  },
  {
   "cell_type": "code",
   "execution_count": 61,
   "metadata": {
    "collapsed": false
   },
   "outputs": [
    {
     "name": "stdout",
     "output_type": "stream",
     "text": [
      "             PassengerId  Survived    Pclass       Age     SibSp     Parch  \\\n",
      "PassengerId     1.000000 -0.005028 -0.035330  0.033681 -0.057686 -0.001657   \n",
      "Survived       -0.005028  1.000000 -0.335549 -0.082446 -0.034040  0.083151   \n",
      "Pclass         -0.035330 -0.335549  1.000000 -0.365902  0.081656  0.016824   \n",
      "Age             0.033681 -0.082446 -0.365902  1.000000 -0.307351 -0.187896   \n",
      "SibSp          -0.057686 -0.034040  0.081656 -0.307351  1.000000  0.414542   \n",
      "Parch          -0.001657  0.083151  0.016824 -0.187896  0.414542  1.000000   \n",
      "Fare            0.012703  0.255290 -0.548193  0.093143  0.160887  0.217532   \n",
      "\n",
      "                 Fare  \n",
      "PassengerId  0.012703  \n",
      "Survived     0.255290  \n",
      "Pclass      -0.548193  \n",
      "Age          0.093143  \n",
      "SibSp        0.160887  \n",
      "Parch        0.217532  \n",
      "Fare         1.000000  \n"
     ]
    }
   ],
   "source": [
    "print passengers.corr(method='pearson')\n"
   ]
  },
  {
   "cell_type": "markdown",
   "metadata": {},
   "source": [
    "# Question 2 conclusion\n",
    "\n",
    "We have a correlation factor of -0.335549 between passenger class and the fact people survived.\n",
    "It confirms the conclusion of question 1.\n"
   ]
  },
  {
   "cell_type": "markdown",
   "metadata": {},
   "source": [
    "# Question 3\n",
    "\n",
    "•What is the percentage of surviving people per gender\n"
   ]
  },
  {
   "cell_type": "code",
   "execution_count": 62,
   "metadata": {
    "collapsed": false
   },
   "outputs": [
    {
     "data": {
      "image/png": "[encoded data removed]",
      "text/plain": [
       "<matplotlib.figure.Figure at 0xc75ed68>"
      ]
     },
     "metadata": {},
     "output_type": "display_data"
    }
   ],
   "source": [
    "survival_per_gender = passengers.groupby(['Sex','Survived'])['PassengerId']\n",
    "data =  survival_per_gender.count().unstack()\n",
    "data = data.apply(normalise, axis='columns')\n",
    "\n",
    "plotstackedbar(data,'Died','Survived',0.6,'Gender','Percentage','Repartition between surviving and dead passenger per gender')\n",
    "               "
   ]
  },
  {
   "cell_type": "markdown",
   "metadata": {},
   "source": [
    "# Question 3 conclusion\n",
    "\n",
    "Percentage of surviving female is greater than percentage of surviving male.\n"
   ]
  },
  {
   "cell_type": "markdown",
   "metadata": {},
   "source": [
    "# Question 4\n",
    "\n",
    "* What is the age distribution of surviving and died people\n"
   ]
  },
  {
   "cell_type": "code",
   "execution_count": 63,
   "metadata": {
    "collapsed": false
   },
   "outputs": [
    {
     "name": "stdout",
     "output_type": "stream",
     "text": [
      "PassengerId    712\n",
      "Survived       712\n",
      "Pclass         712\n",
      "Name           712\n",
      "Sex            712\n",
      "Age            712\n",
      "SibSp          712\n",
      "Parch          712\n",
      "Ticket         712\n",
      "Fare           712\n",
      "Cabin          183\n",
      "Embarked       712\n",
      "SurvivedT      712\n",
      "dtype: int64\n"
     ]
    },
    {
     "data": {
      "image/png": "[encoded data removed]",
      "text/plain": [
       "<matplotlib.figure.Figure at 0xc87ec18>"
      ]
     },
     "metadata": {},
     "output_type": "display_data"
    }
   ],
   "source": [
    "valid_age = passengers[(passengers['Age'] > 0 )]\n",
    "valid_age['Age'].hist(by=passengers['SurvivedT'],bins=20)\n",
    "print valid_age.count()\n"
   ]
  },
  {
   "cell_type": "markdown",
   "metadata": {},
   "source": [
    "# Question 4 conclusion\n",
    "\n",
    "We can see that the two histogram have a similar shape except for infant.\n"
   ]
  },
  {
   "cell_type": "markdown",
   "metadata": {},
   "source": [
    "# Question 5\n",
    "\n",
    "•What was the average fare per passenger class and associated standard deviation (paying passengers only)\n"
   ]
  },
  {
   "cell_type": "code",
   "execution_count": 64,
   "metadata": {
    "collapsed": false
   },
   "outputs": [
    {
     "data": {
      "text/plain": [
       "count    874.000000\n",
       "mean      32.647539\n",
       "std       49.942710\n",
       "min        4.012500\n",
       "25%        7.925000\n",
       "50%       14.500000\n",
       "75%       31.275000\n",
       "max      512.329200\n",
       "Name: Fare, dtype: float64"
      ]
     },
     "execution_count": 64,
     "metadata": {},
     "output_type": "execute_result"
    }
   ],
   "source": [
    "# We filter first passenger that did not pay\n",
    "data= passengers[passengers['Fare'] > 0]\n",
    "data['Fare'].describe()\n"
   ]
  },
  {
   "cell_type": "code",
   "execution_count": 65,
   "metadata": {
    "collapsed": false
   },
   "outputs": [
    {
     "data": {
      "text/plain": [
       "<matplotlib.axes._subplots.AxesSubplot at 0xdf362e8>"
      ]
     },
     "execution_count": 65,
     "metadata": {},
     "output_type": "execute_result"
    },
    {
     "data": {
      "image/png": "[encoded data removed]",
      "text/plain": [
       "<matplotlib.figure.Figure at 0xca2ce48>"
      ]
     },
     "metadata": {},
     "output_type": "display_data"
    }
   ],
   "source": [
    "# plot histogram\n",
    "data['Fare'].hist(bins=20)"
   ]
  },
  {
   "cell_type": "markdown",
   "metadata": {},
   "source": [
    "# Question 5 conclusion\n",
    "\n",
    "The average fare is 32 (currency?) but 50% of the passengers paid less than 14.5 (currency?).\n",
    "\n",
    "We can also see a strange bar at the right of the histogram with a fair much higher than the rest of the passengers.\n"
   ]
  },
  {
   "cell_type": "markdown",
   "metadata": {
    "collapsed": false
   },
   "source": [
    "# Conclusion\n",
    "\n",
    "We performed some statistics on Titanic passengers information.\n",
    "We can see some information, but we can not draw any conclusion of the reasons behind our observations for several reason:\n",
    "\n",
    "* We have only a sample of Titanic passenger data (892 over 2224 people). We do not know how this sample was created and if it has any biaised in it.\n",
    "* We are missing some factual information about the way the disaster was managed on the ship. For instance, we see that there were more (in proportion) 1st class survival than 3rd class survival. The reason may be that 1st class people were closer from rescue boats, or that they were considered as prioritary people to go on board of the rescue boat. It could also be for both reasons or for any kind of other reasons. We need a proper investigation to know more about that.\n",
    "\n"
   ]
  }
 ],
 "metadata": {
  "anaconda-cloud": {},
  "kernelspec": {
   "display_name": "Python [default]",
   "language": "python",
   "name": "python2"
  },
  "language_info": {
   "codemirror_mode": {
    "name": "ipython",
    "version": 2
   },
   "file_extension": ".py",
   "mimetype": "text/x-python",
   "name": "python",
   "nbconvert_exporter": "python",
   "pygments_lexer": "ipython2",
   "version": "2.7.12"
  }
 },
 "nbformat": 4,
 "nbformat_minor": 1
}
