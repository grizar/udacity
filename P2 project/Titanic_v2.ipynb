{
 "cells": [
  {
   "cell_type": "markdown",
   "metadata": {},
   "source": [
    "# Titanic passenger data analysis\n",
    "\n",
    "Alain Roghi - alain.roghi@airbus.com\n"
   ]
  },
  {
   "cell_type": "markdown",
   "metadata": {},
   "source": [
    "This document is an a analysis of the Titanic passenger data.\n",
    "This analysis is based on data set titanic-data.csv downloaded from the Udacity P2 project page.\n",
    "\n",
    "## Background information (extract from Wikipedia)\n",
    "\n",
    "RMS Titanic was a British passenger liner that sank in the North Atlantic Ocean in the early morning of 15 April 1912, after colliding with an iceberg during her maiden voyage from Southampton to New York City. Of the 2,224 passengers and crew aboard, more than 1,500 died, making it one of the deadliest commercial peacetime maritime disasters in modern history. The largest ship afloat at the time it entered service, the RMS Titanic was the second of three Olympic class ocean liners operated by the White Star Line, and was built by the Harland and Wolff shipyard in Belfast. Thomas Andrews, her architect, died in the disaster.\n"
   ]
  },
  {
   "cell_type": "markdown",
   "metadata": {},
   "source": [
    "## Problem statement\n",
    "\n",
    "We want to be able to answer the following questions:\n",
    "* What is percentage of surviving people for each passenger class\n",
    "* Is there a correlation between surviving people of their respective passenger class\n",
    "* What is the percentage of surviving people per gender\n",
    "* What is the age distribution of surviving and died people\n",
    "* What was the average fare per passenger class and associated standard deviation (paying passengers only)\n",
    "\n"
   ]
  },
  {
   "cell_type": "code",
   "execution_count": 13,
   "metadata": {
    "collapsed": false
   },
   "outputs": [
    {
     "name": "stdout",
     "output_type": "stream",
     "text": [
      "Populating the interactive namespace from numpy and matplotlib\n"
     ]
    },
    {
     "name": "stderr",
     "output_type": "stream",
     "text": [
      "C:\\Users\\roghi\\Documents\\Data scientist\\Anaconda\\lib\\site-packages\\IPython\\core\\magics\\pylab.py:161: UserWarning: pylab import has clobbered these variables: ['axes', 'title']\n",
      "`%matplotlib` prevents importing * from pylab and numpy\n",
      "  \"\\n`%matplotlib` prevents importing * from pylab and numpy\"\n"
     ]
    },
    {
     "data": {
      "text/html": [
       "<div>\n",
       "<table border=\"1\" class=\"dataframe\">\n",
       "  <thead>\n",
       "    <tr style=\"text-align: right;\">\n",
       "      <th></th>\n",
       "      <th>PassengerId</th>\n",
       "      <th>Survived</th>\n",
       "      <th>Pclass</th>\n",
       "      <th>Name</th>\n",
       "      <th>Sex</th>\n",
       "      <th>Age</th>\n",
       "      <th>SibSp</th>\n",
       "      <th>Parch</th>\n",
       "      <th>Ticket</th>\n",
       "      <th>Fare</th>\n",
       "      <th>Cabin</th>\n",
       "      <th>Embarked</th>\n",
       "    </tr>\n",
       "  </thead>\n",
       "  <tbody>\n",
       "    <tr>\n",
       "      <th>0</th>\n",
       "      <td>1</td>\n",
       "      <td>0</td>\n",
       "      <td>3</td>\n",
       "      <td>Braund, Mr. Owen Harris</td>\n",
       "      <td>male</td>\n",
       "      <td>22.0</td>\n",
       "      <td>1</td>\n",
       "      <td>0</td>\n",
       "      <td>A/5 21171</td>\n",
       "      <td>7.2500</td>\n",
       "      <td>NaN</td>\n",
       "      <td>S</td>\n",
       "    </tr>\n",
       "    <tr>\n",
       "      <th>1</th>\n",
       "      <td>2</td>\n",
       "      <td>1</td>\n",
       "      <td>1</td>\n",
       "      <td>Cumings, Mrs. John Bradley (Florence Briggs Th...</td>\n",
       "      <td>female</td>\n",
       "      <td>38.0</td>\n",
       "      <td>1</td>\n",
       "      <td>0</td>\n",
       "      <td>PC 17599</td>\n",
       "      <td>71.2833</td>\n",
       "      <td>C85</td>\n",
       "      <td>C</td>\n",
       "    </tr>\n",
       "    <tr>\n",
       "      <th>2</th>\n",
       "      <td>3</td>\n",
       "      <td>1</td>\n",
       "      <td>3</td>\n",
       "      <td>Heikkinen, Miss. Laina</td>\n",
       "      <td>female</td>\n",
       "      <td>26.0</td>\n",
       "      <td>0</td>\n",
       "      <td>0</td>\n",
       "      <td>STON/O2. 3101282</td>\n",
       "      <td>7.9250</td>\n",
       "      <td>NaN</td>\n",
       "      <td>S</td>\n",
       "    </tr>\n",
       "  </tbody>\n",
       "</table>\n",
       "</div>"
      ],
      "text/plain": [
       "   PassengerId  Survived  Pclass  \\\n",
       "0            1         0       3   \n",
       "1            2         1       1   \n",
       "2            3         1       3   \n",
       "\n",
       "                                                Name     Sex   Age  SibSp  \\\n",
       "0                            Braund, Mr. Owen Harris    male  22.0      1   \n",
       "1  Cumings, Mrs. John Bradley (Florence Briggs Th...  female  38.0      1   \n",
       "2                             Heikkinen, Miss. Laina  female  26.0      0   \n",
       "\n",
       "   Parch            Ticket     Fare Cabin Embarked  \n",
       "0      0         A/5 21171   7.2500   NaN        S  \n",
       "1      0          PC 17599  71.2833   C85        C  \n",
       "2      0  STON/O2. 3101282   7.9250   NaN        S  "
      ]
     },
     "execution_count": 13,
     "metadata": {},
     "output_type": "execute_result"
    }
   ],
   "source": [
    "%matplotlib inline\n",
    "%pylab inline\n",
    "\n",
    "import numpy as np\n",
    "import pandas as pd\n",
    "import seaborn as sns\n",
    "import matplotlib as mp\n",
    "\n",
    "# Loading dataset\n",
    "path = './'\n",
    "passengers = pd.read_csv(path + 'titanic-data.csv')\n",
    "passengers.head(3)\n",
    "\n"
   ]
  },
  {
   "cell_type": "markdown",
   "metadata": {
    "collapsed": true
   },
   "source": [
    "# Data format (source : Kaggle web site - https://www.kaggle.com/c/titanic/data)\n",
    "\n",
    "VARIABLE DESCRIPTIONS:\n",
    "survival        Survival\n",
    "                (0 = No; 1 = Yes)\n",
    "pclass          Passenger Class\n",
    "                (1 = 1st; 2 = 2nd; 3 = 3rd)\n",
    "name            Name\n",
    "sex             Sex\n",
    "age             Age\n",
    "sibsp           Number of Siblings/Spouses Aboard\n",
    "parch           Number of Parents/Children Aboard\n",
    "ticket          Ticket Number\n",
    "fare            Passenger Fare\n",
    "cabin           Cabin\n",
    "embarked        Port of Embarkation\n",
    "                (C = Cherbourg; Q = Q ueenstown; S = Southampton)\n",
    "\n",
    "SPECIAL NOTES:\n",
    "Pclass is a proxy for socio-economic status (SES)\n",
    " 1st ~ Upper; 2nd ~ Middle; 3rd ~ Lower\n",
    "\n",
    "Age is in Years; Fractional if Age less than One (1)\n",
    " If the Age is Estimated, it is in the form xx.5\n",
    "\n",
    "With respect to the family relation variables (i.e. sibsp and parch) some relations were ignored.  The following are the definitions used for sibsp and parch.\n",
    "\n",
    "Sibling:  Brother, Sister, Stepbrother, or Stepsister of Passenger Aboard Titanic\n",
    "Spouse:   Husband or Wife of Passenger Aboard Titanic (Mistresses and Fiances Ignored)\n",
    "Parent:   Mother or Father of Passenger Aboard Titanic\n",
    "Child:    Son, Daughter, Stepson, or Stepdaughter of Passenger Aboard Titanic\n",
    "\n",
    "Other family relatives excluded from this study include cousins, nephews/nieces, aunts/uncles, and in-laws.  Some children travelled only with a nanny, therefore parch=0 for them.  As well, some travelled with very close friends or neighbors in a village, however, the definitions do not support such relations."
   ]
  },
  {
   "cell_type": "markdown",
   "metadata": {},
   "source": [
    "# Data exploration\n",
    "\n",
    "We can already notice there are discrepencies between the file and the content description. Some headers are either not the same (Survived vs survival) or written with a different case (pclass vs Pclass).\n",
    "\n",
    "We can also see that some information are not described (for instance the Fare for which we do not know the associated currency).\n",
    "\n",
    "We will perform some basic data exploration on the whole file in order to check data quality.\n",
    "\n",
    "\n"
   ]
  },
  {
   "cell_type": "code",
   "execution_count": 14,
   "metadata": {
    "collapsed": false,
    "scrolled": false
   },
   "outputs": [
    {
     "name": "stdout",
     "output_type": "stream",
     "text": [
      "Number of values in each column\n",
      "PassengerId    891\n",
      "Survived       891\n",
      "Pclass         891\n",
      "Name           891\n",
      "Sex            891\n",
      "Age            714\n",
      "SibSp          891\n",
      "Parch          891\n",
      "Ticket         891\n",
      "Fare           891\n",
      "Cabin          204\n",
      "Embarked       889\n",
      "dtype: int64\n",
      "\n",
      "Check if their is non described values is some columns\n",
      "Survived [0 1]\n",
      "Pclass   [3 1 2]\n",
      "Sex      ['male' 'female']\n",
      "SibSp    [1 0 3 4 2 5 8]\n",
      "Parch    [0 1 2 5 3 4 6]\n",
      "Embarked ['S' 'C' 'Q' nan]\n",
      "Fare data description\n"
     ]
    },
    {
     "data": {
      "text/plain": [
       "count    891.000000\n",
       "mean      32.204208\n",
       "std       49.693429\n",
       "min        0.000000\n",
       "25%        7.910400\n",
       "50%       14.454200\n",
       "75%       31.000000\n",
       "max      512.329200\n",
       "Name: Fare, dtype: float64"
      ]
     },
     "execution_count": 14,
     "metadata": {},
     "output_type": "execute_result"
    }
   ],
   "source": [
    "print \"Number of values in each column\"\n",
    "print passengers.count()\n",
    "\n",
    "\n",
    "print \"\\nCheck if their is non described values is some columns\"\n",
    "print \"Survived %s\" % passengers['Survived'].unique()\n",
    "print \"Pclass   %s\" % passengers['Pclass'].unique()\n",
    "print \"Sex      %s\" % passengers['Sex'].unique()\n",
    "print \"SibSp    %s\" % passengers['SibSp'].unique()\n",
    "print \"Parch    %s\" % passengers['Parch'].unique()\n",
    "print \"Embarked %s\" % passengers['Embarked'].unique()\n",
    "print \"Fare data description\"\n",
    "passengers['Fare'].describe()"
   ]
  },
  {
   "cell_type": "markdown",
   "metadata": {},
   "source": [
    "We see that there are some missing informations:\n",
    "* Age data\n",
    "* Cabin identification\n",
    "* Embarquement harbour\n",
    "\n",
    "As we are interested in people at the moment the boat sink, we will exclude people that did not embarqued from the whole study. It will be performed at next step. It impact only two rows from the dataset.\n",
    "\n",
    "As we are not answering any question related to cabin, we won't do any modification nor filtering on the cabin information. We are missing cabin information for 687 over 891 (about 77%). \n",
    "\n",
    "Age is missing on 177 rows over 891 (about 20%). In order to deal with these missing values, we could either:\n",
    "* just not include the missing age records when performin an age related analysis\n",
    "* estime the age of the passengers based using a linear regression model between fare and age using records having those values.\n",
    "\n",
    "Within the data format description, it is already mentionned that some ages are already estimated ones. We consider not relevant to perform another age estimation based on passenger fare as we are missing the pricing policy of the White Star Line company.\n",
    "Therefore, missing age record will not be taken into account when performing age analysis. We will create a specific Age category column with an Unknown value when Age is not filled in.\n",
    "\n",
    "We also notice that some passengers have 0 as ticket Fare. The format description do not mention any information about the Fare data. We can either imagine that some passengers get a free ride, or these people were crew memebers, or that 0 has to be considered as missing value. As mentionned earlier, we do not have any information about the  White Star Line company pricing policy. Therefore, 0 Fare values records will not be taken into account when performing fare data analysis.\n",
    "\n",
    "\n"
   ]
  },
  {
   "cell_type": "markdown",
   "metadata": {},
   "source": [
    "# Data modification\n",
    "\n",
    "We will apply two modifications.\n",
    "* 1st: We will change the value of the survived column in order to be more explicit than 0 and 1.\n",
    "* 2nd: We are interested about people being on board of the Titanic. We will excluded people with an Embarked harbour value\n",
    "* 3rd: We will insert a new column to split passengers 3 age categories (Infant < 18, Adult >= 18 and < 60, Old >= 60)\n"
   ]
  },
  {
   "cell_type": "code",
   "execution_count": 15,
   "metadata": {
    "collapsed": false
   },
   "outputs": [
    {
     "data": {
      "text/html": [
       "<div>\n",
       "<table border=\"1\" class=\"dataframe\">\n",
       "  <thead>\n",
       "    <tr style=\"text-align: right;\">\n",
       "      <th></th>\n",
       "      <th>PassengerId</th>\n",
       "      <th>Survived</th>\n",
       "      <th>Pclass</th>\n",
       "      <th>Name</th>\n",
       "      <th>Sex</th>\n",
       "      <th>Age</th>\n",
       "      <th>SibSp</th>\n",
       "      <th>Parch</th>\n",
       "      <th>Ticket</th>\n",
       "      <th>Fare</th>\n",
       "      <th>Cabin</th>\n",
       "      <th>Embarked</th>\n",
       "      <th>SurvivedT</th>\n",
       "      <th>AgeCat</th>\n",
       "    </tr>\n",
       "  </thead>\n",
       "  <tbody>\n",
       "    <tr>\n",
       "      <th>0</th>\n",
       "      <td>1</td>\n",
       "      <td>0</td>\n",
       "      <td>3</td>\n",
       "      <td>Braund, Mr. Owen Harris</td>\n",
       "      <td>male</td>\n",
       "      <td>22.0</td>\n",
       "      <td>1</td>\n",
       "      <td>0</td>\n",
       "      <td>A/5 21171</td>\n",
       "      <td>7.2500</td>\n",
       "      <td>NaN</td>\n",
       "      <td>S</td>\n",
       "      <td>Died</td>\n",
       "      <td>Adult</td>\n",
       "    </tr>\n",
       "    <tr>\n",
       "      <th>1</th>\n",
       "      <td>2</td>\n",
       "      <td>1</td>\n",
       "      <td>1</td>\n",
       "      <td>Cumings, Mrs. John Bradley (Florence Briggs Th...</td>\n",
       "      <td>female</td>\n",
       "      <td>38.0</td>\n",
       "      <td>1</td>\n",
       "      <td>0</td>\n",
       "      <td>PC 17599</td>\n",
       "      <td>71.2833</td>\n",
       "      <td>C85</td>\n",
       "      <td>C</td>\n",
       "      <td>Survived</td>\n",
       "      <td>Adult</td>\n",
       "    </tr>\n",
       "    <tr>\n",
       "      <th>2</th>\n",
       "      <td>3</td>\n",
       "      <td>1</td>\n",
       "      <td>3</td>\n",
       "      <td>Heikkinen, Miss. Laina</td>\n",
       "      <td>female</td>\n",
       "      <td>26.0</td>\n",
       "      <td>0</td>\n",
       "      <td>0</td>\n",
       "      <td>STON/O2. 3101282</td>\n",
       "      <td>7.9250</td>\n",
       "      <td>NaN</td>\n",
       "      <td>S</td>\n",
       "      <td>Survived</td>\n",
       "      <td>Adult</td>\n",
       "    </tr>\n",
       "  </tbody>\n",
       "</table>\n",
       "</div>"
      ],
      "text/plain": [
       "   PassengerId  Survived  Pclass  \\\n",
       "0            1         0       3   \n",
       "1            2         1       1   \n",
       "2            3         1       3   \n",
       "\n",
       "                                                Name     Sex   Age  SibSp  \\\n",
       "0                            Braund, Mr. Owen Harris    male  22.0      1   \n",
       "1  Cumings, Mrs. John Bradley (Florence Briggs Th...  female  38.0      1   \n",
       "2                             Heikkinen, Miss. Laina  female  26.0      0   \n",
       "\n",
       "   Parch            Ticket     Fare Cabin Embarked SurvivedT AgeCat  \n",
       "0      0         A/5 21171   7.2500   NaN        S      Died  Adult  \n",
       "1      0          PC 17599  71.2833   C85        C  Survived  Adult  \n",
       "2      0  STON/O2. 3101282   7.9250   NaN        S  Survived  Adult  "
      ]
     },
     "execution_count": 15,
     "metadata": {},
     "output_type": "execute_result"
    }
   ],
   "source": [
    "def labelsurvive(s):\n",
    "  return ('Survived' if s == 1 else 'Died')\n",
    "\n",
    "def labelage(s):\n",
    "  return ('Young' if s <= 12 else 'Teenager' if s <= 18 else 'Adult' if s <= 60 else 'Old' if s > 60 else 'Unknow' )\n",
    "\n",
    "passengers['SurvivedT'] = passengers['Survived'].map(labelsurvive)\n",
    "passengers['AgeCat'] = passengers['Age'].map(labelage)\n",
    "\n",
    "# Remove non boarding passengers\n",
    "passengers = passengers[(passengers['Embarked'] == 'Q') | (passengers['Embarked'] == 'S') | (passengers['Embarked'] == 'C')]\n",
    "\n",
    "# Check modification\n",
    "passengers.head(3)\n",
    "\n"
   ]
  },
  {
   "cell_type": "code",
   "execution_count": 16,
   "metadata": {
    "collapsed": false
   },
   "outputs": [
    {
     "name": "stdout",
     "output_type": "stream",
     "text": [
      "PassengerId    889\n",
      "Survived       889\n",
      "Pclass         889\n",
      "Name           889\n",
      "Sex            889\n",
      "Age            712\n",
      "SibSp          889\n",
      "Parch          889\n",
      "Ticket         889\n",
      "Fare           889\n",
      "Cabin          202\n",
      "Embarked       889\n",
      "SurvivedT      889\n",
      "AgeCat         889\n",
      "dtype: int64\n",
      "Embarked ['S' 'C' 'Q']\n",
      "AgeCat ['Adult' 'Unknow' 'Young' 'Teenager' 'Old']\n"
     ]
    }
   ],
   "source": [
    "print passengers.count()\n",
    "print \"Embarked %s\" % passengers['Embarked'].unique()\n",
    "print \"AgeCat %s\" % passengers['AgeCat'].unique()"
   ]
  },
  {
   "cell_type": "markdown",
   "metadata": {},
   "source": [
    "# Passenger class analysis\n",
    "\n",
    "This section will show some passenger class analysis statistics.\n"
   ]
  },
  {
   "cell_type": "code",
   "execution_count": 17,
   "metadata": {
    "collapsed": false
   },
   "outputs": [
    {
     "data": {
      "image/png": "[encoded data removed]",
      "text/plain": [
       "<matplotlib.figure.Figure at 0x255c160>"
      ]
     },
     "metadata": {},
     "output_type": "display_data"
    }
   ],
   "source": [
    "%matplotlib inline\n",
    "\n",
    "# this function normalise from aboslute values to percentage all figures from a data serie\n",
    "def normalise(row):\n",
    "    data = np.array(row)\n",
    "    data[isnan(data)] = 0\n",
    "    return 100 * row / data.sum()\n",
    "\n",
    "# this function display a stacked bar chart with corresponding labels and titles\n",
    "def plotstackedbar(data,label1,label2,leftanchor,xlabel,ylabel,title):\n",
    "    chart = data.plot.bar(stacked = True)\n",
    "\n",
    "    # modify legend\n",
    "    handles, labels = chart.get_legend_handles_labels()\n",
    "    labels[0] = label1\n",
    "    labels[1] = label2\n",
    "    chart.legend(handles, labels,bbox_to_anchor=(leftanchor, 0))\n",
    "\n",
    "    # Set titles\n",
    "    chart.set_xlabel(xlabel, fontsize=12)\n",
    "    chart.set_ylabel(ylabel, fontsize=12)\n",
    "    chart.set_title(title, fontsize=12)\n",
    "    \n",
    "survival_per_class = passengers.groupby(['Pclass','Survived'])['PassengerId']\n",
    "data =  survival_per_class.count().unstack()\n",
    "data = data.apply(normalise, axis='columns')\n",
    "\n",
    "plotstackedbar(data,'Died','Survived',0.85,'Class','Percentage','Repartition between surviving and dead passenger per class')\n",
    "\n"
   ]
  },
  {
   "cell_type": "code",
   "execution_count": 18,
   "metadata": {
    "collapsed": false
   },
   "outputs": [
    {
     "name": "stdout",
     "output_type": "stream",
     "text": [
      "Number of passengers per class\n",
      "Pclass\n",
      "1    214\n",
      "2    184\n",
      "3    491\n",
      "Name: PassengerId, dtype: int64\n",
      "\n",
      "Percentage of passenger per class\n",
      "Pclass\n",
      "1    24.071991\n",
      "2    20.697413\n",
      "3    55.230596\n",
      "Name: PassengerId, dtype: float64\n",
      "\n",
      "Passenger numbers\n",
      "Pclass       1   2    3\n",
      "SurvivedT              \n",
      "Died        80  97  372\n",
      "Survived   134  87  119\n",
      "\n",
      "Dying and survived people ratio\n",
      "Pclass             1          2          3\n",
      "SurvivedT                                 \n",
      "Died       14.571949  17.668488  67.759563\n",
      "Survived   39.411765  25.588235  35.000000\n",
      "\n",
      "Pearson correlation coef between the different variables\n",
      "             PassengerId  Survived    Pclass       Age     SibSp     Parch  \\\n",
      "PassengerId     1.000000 -0.005028 -0.035330  0.033681 -0.057686 -0.001657   \n",
      "Survived       -0.005028  1.000000 -0.335549 -0.082446 -0.034040  0.083151   \n",
      "Pclass         -0.035330 -0.335549  1.000000 -0.365902  0.081656  0.016824   \n",
      "Age             0.033681 -0.082446 -0.365902  1.000000 -0.307351 -0.187896   \n",
      "SibSp          -0.057686 -0.034040  0.081656 -0.307351  1.000000  0.414542   \n",
      "Parch          -0.001657  0.083151  0.016824 -0.187896  0.414542  1.000000   \n",
      "Fare            0.012703  0.255290 -0.548193  0.093143  0.160887  0.217532   \n",
      "\n",
      "                 Fare  \n",
      "PassengerId  0.012703  \n",
      "Survived     0.255290  \n",
      "Pclass      -0.548193  \n",
      "Age          0.093143  \n",
      "SibSp        0.160887  \n",
      "Parch        0.217532  \n",
      "Fare         1.000000  \n",
      "\n"
     ]
    }
   ],
   "source": [
    "data = passengers.groupby(['Pclass'])['PassengerId'].count()\n",
    "print \"Number of passengers per class\"\n",
    "print data\n",
    "print\n",
    "\n",
    "print \"Percentage of passenger per class\"\n",
    "print normalise(data)\n",
    "print \n",
    "\n",
    "data = passengers.groupby(['SurvivedT','Pclass'])['PassengerId']\n",
    "data =  data.count().unstack()\n",
    "print 'Passenger numbers'\n",
    "print data\n",
    "print\n",
    "\n",
    "print \"Dying and survived people ratio\"\n",
    "data = data.apply(normalise, axis='columns')\n",
    "print data\n",
    "print\n",
    "\n",
    "print \"Pearson correlation coef between the different variables\"\n",
    "print passengers.corr(method='pearson')\n",
    "print "
   ]
  },
  {
   "cell_type": "markdown",
   "metadata": {},
   "source": [
    "# Question 1 & Question 2 conclusion\n",
    "\n",
    "We see that better the travel class was, better the survival rate was.\n",
    "\n",
    "We can notice that class 2 passenger survival rate is around 50%, and that 1st class and 3rd class survival rate are complementary (around 60% survival rate for 1st class passenger vs 60% dying rate for 3rd class passengers).\n",
    "\n",
    "In absolute value, we see that more passengers form 1st class survived than 3rd class passengers even if 1st class passengers were 60% less numerous than 3rd class people. This result is coherent when looking to the correlation factor between class number and survival (-0.335549)\n",
    "\n",
    "Within the survivor population, the 1st class passengers were well represented (around 40%) compared to the 2 others classes, but they were only around 24% of the total population.\n",
    "\n",
    "In could be interesting to analyse the accident report in order to understand the reason why the 1st class people were over-represented within the survival population.\n",
    "\n",
    "\n"
   ]
  },
  {
   "cell_type": "markdown",
   "metadata": {},
   "source": [
    "# Gender and age analysis\n",
    "\n",
    "This section will show some passenger gender analysis statistics.\n"
   ]
  },
  {
   "cell_type": "code",
   "execution_count": 19,
   "metadata": {
    "collapsed": false,
    "scrolled": false
   },
   "outputs": [
    {
     "data": {
      "image/png": "[encoded data removed]",
      "text/plain": [
       "<matplotlib.figure.Figure at 0xd497668>"
      ]
     },
     "metadata": {},
     "output_type": "display_data"
    }
   ],
   "source": [
    "survival_per_gender = passengers.groupby(['Sex','Survived'])['PassengerId']\n",
    "data =  survival_per_gender.count().unstack()\n",
    "data = data.apply(normalise, axis='columns')\n",
    "\n",
    "title = 'Repartition between surviving and dead passenger per gender'\n",
    "plotstackedbar(data,'Died','Survived',0.6,'Gender','Percentage',title)\n",
    "plt.show()"
   ]
  },
  {
   "cell_type": "code",
   "execution_count": 20,
   "metadata": {
    "collapsed": false
   },
   "outputs": [
    {
     "name": "stdout",
     "output_type": "stream",
     "text": [
      "Number dying and survival passengers per age category\n",
      "SurvivedT  Died  Survived\n",
      "AgeCat                   \n",
      "Adult       338       214\n",
      "Old          17         4\n",
      "Teenager     40        30\n",
      "Unknow      125        52\n",
      "Young        29        40\n",
      "\n",
      "Percentage dying and survival passengers per age category\n",
      "SurvivedT       Died   Survived\n",
      "AgeCat                         \n",
      "Adult      61.231884  38.768116\n",
      "Old        80.952381  19.047619\n",
      "Teenager   57.142857  42.857143\n",
      "Unknow     70.621469  29.378531\n",
      "Young      42.028986  57.971014\n",
      "\n",
      "Number dying and survival passengers per age category and gender\n",
      "SurvivedT         Died  Survived\n",
      "AgeCat   Sex                    \n",
      "Adult    female   42.0     147.0\n",
      "         male    296.0      67.0\n",
      "Old      female    NaN       2.0\n",
      "         male     17.0       2.0\n",
      "Teenager female    9.0      27.0\n",
      "         male     31.0       3.0\n",
      "Unknow   female   17.0      36.0\n",
      "         male    108.0      16.0\n",
      "Young    female   13.0      19.0\n",
      "         male     16.0      21.0\n",
      "\n",
      "Percentage dying and survival passengers per age category and gender\n",
      "SurvivedT             Died    Survived\n",
      "AgeCat   Sex                          \n",
      "Adult    female  22.222222   77.777778\n",
      "         male    81.542700   18.457300\n",
      "Old      female        NaN  100.000000\n",
      "         male    89.473684   10.526316\n",
      "Teenager female  25.000000   75.000000\n",
      "         male    91.176471    8.823529\n",
      "Unknow   female  32.075472   67.924528\n",
      "         male    87.096774   12.903226\n",
      "Young    female  40.625000   59.375000\n",
      "         male    43.243243   56.756757\n",
      "\n"
     ]
    }
   ],
   "source": [
    "survival_per_cat = passengers.groupby(['AgeCat','SurvivedT'])['PassengerId']\n",
    "data =  survival_per_cat.count().unstack()\n",
    "\n",
    "print \"Number dying and survival passengers per age category\"\n",
    "print data\n",
    "print \n",
    "\n",
    "print \"Percentage dying and survival passengers per age category\"\n",
    "data = data.apply(normalise, axis='columns')\n",
    "print data\n",
    "print \n",
    "\n",
    "\n",
    "survival_per_cat = passengers.groupby(['AgeCat','Sex','SurvivedT'])['PassengerId']\n",
    "data =  survival_per_cat.count().unstack()\n",
    "\n",
    "print \"Number dying and survival passengers per age category and gender\"\n",
    "print data\n",
    "print \n",
    "\n",
    "print \"Percentage dying and survival passengers per age category and gender\"\n",
    "data = data.apply(normalise, axis='columns')\n",
    "print data\n",
    "print "
   ]
  },
  {
   "cell_type": "code",
   "execution_count": 21,
   "metadata": {
    "collapsed": false
   },
   "outputs": [
    {
     "data": {
      "image/png": "[encoded data removed]",
      "text/plain": [
       "<matplotlib.figure.Figure at 0xd885d68>"
      ]
     },
     "metadata": {},
     "output_type": "display_data"
    },
    {
     "name": "stdout",
     "output_type": "stream",
     "text": [
      "PassengerId    712\n",
      "Survived       712\n",
      "Pclass         712\n",
      "Name           712\n",
      "Sex            712\n",
      "Age            712\n",
      "SibSp          712\n",
      "Parch          712\n",
      "Ticket         712\n",
      "Fare           712\n",
      "Cabin          183\n",
      "Embarked       712\n",
      "SurvivedT      712\n",
      "AgeCat         712\n",
      "dtype: int64\n"
     ]
    }
   ],
   "source": [
    "def createhist(ax, data, bins, xlabel, ylabel, title):\n",
    "    ax.hist(data, bins, normed=0, histtype='bar')\n",
    "    #ax.legend(prop={'size': 10})\n",
    "    ax.set_xlabel(xlabel, fontsize=10)\n",
    "    ax.set_ylabel(ylabel, fontsize=10)\n",
    "    ax.set_title(title, fontsize=12)\n",
    "    \n",
    "\n",
    "fig, axes = plt.subplots(nrows=1, ncols=2)\n",
    "ax0, ax1 = axes.flat\n",
    "\n",
    "#We will restrict plotted data to valid ages only (it means > 0)\n",
    "valid_age = passengers[(passengers['Age'] > 0)]\n",
    "createhist(ax0, valid_age['Age'][(passengers['Survived'] == 1 )], 20, \"Age\",\"Nb of passenger\",\"Survival passenger\\ndistribution per age\")\n",
    "createhist(ax1, valid_age['Age'][(passengers['Survived'] == 0 )], 20, \"Age\",\"Nb of passenger\",\"Died passenger\\ndistribution per age\")\n",
    "    \n",
    "plt.tight_layout()\n",
    "plt.show()\n",
    "\n",
    "print valid_age.count()\n"
   ]
  },
  {
   "cell_type": "markdown",
   "metadata": {},
   "source": [
    "# Question 3 & 4 conclusion\n",
    "\n",
    "We see that the percentage of surviving female is greater than percentage of surviving male.\n",
    "Nevertheless, we can see a different scheme according to age of passengers.\n",
    "\n",
    "We see that young passengers survival rate was around 60% for male/female without gender distinction. This can also be obsrved on the two histograms.\n",
    "For the other age categories, we have a roughly similar survival rate for females (aroud 75%, expect for the 2 old ladies (100% survival rate)).\n",
    "But, for males, we have a much bigger dying rate for teenagers (from 12 to 18) and old people (> 60). It can be understandable for old people, but needs further investigation in order to be better understood this higher percentage for teenagers.\n",
    "\n"
   ]
  },
  {
   "cell_type": "markdown",
   "metadata": {},
   "source": [
    "# Fare analysis\n",
    "\n",
    "The Fare analysis will only focus on paying passengers, as we do not know what was the White Start Line pricing policy.\n",
    "\n"
   ]
  },
  {
   "cell_type": "code",
   "execution_count": 22,
   "metadata": {
    "collapsed": false
   },
   "outputs": [
    {
     "name": "stdout",
     "output_type": "stream",
     "text": [
      "Fare statistics\n",
      "count    874.000000\n",
      "mean      32.647539\n",
      "std       49.942710\n",
      "min        4.012500\n",
      "25%        7.925000\n",
      "50%       14.500000\n",
      "75%       31.275000\n",
      "max      512.329200\n",
      "Name: Fare, dtype: float64\n",
      "\n",
      "Fare statistics per passenger class\n",
      "Pclass       \n",
      "1       count    209.000000\n",
      "        mean      86.207715\n",
      "        std       78.584940\n",
      "        min        5.000000\n",
      "        25%       32.320800\n",
      "        50%       61.379200\n",
      "        75%      106.425000\n",
      "        max      512.329200\n",
      "2       count    178.000000\n",
      "        mean      21.358661\n",
      "        std       13.083169\n",
      "        min       10.500000\n",
      "        25%       13.000000\n",
      "        50%       15.022900\n",
      "        75%       26.000000\n",
      "        max       73.500000\n",
      "3       count    487.000000\n",
      "        mean      13.787875\n",
      "        std       11.760718\n",
      "        min        4.012500\n",
      "        25%        7.750000\n",
      "        50%        8.050000\n",
      "        75%       15.500000\n",
      "        max       69.550000\n",
      "Name: Fare, dtype: float64\n",
      "\n",
      "Fare statistics per passenger age category\n",
      "AgeCat         \n",
      "Adult     count    545.000000\n",
      "          mean      35.347002\n",
      "          std       55.770705\n",
      "          min        4.012500\n",
      "          25%        8.050000\n",
      "          50%       14.400000\n",
      "          75%       33.000000\n",
      "          max      512.329200\n",
      "Old       count     21.000000\n",
      "          mean      39.531748\n",
      "          std       55.435684\n",
      "          min        6.237500\n",
      "          25%       10.500000\n",
      "          50%       26.550000\n",
      "          75%       34.654200\n",
      "          max      263.000000\n",
      "Teenager  count     70.000000\n",
      "          mean      33.451313\n",
      "          std       51.309636\n",
      "          min        6.495800\n",
      "          25%        7.871900\n",
      "          50%       11.500000\n",
      "          75%       33.298950\n",
      "          max      262.375000\n",
      "Unknow    count    169.000000\n",
      "          mean      23.207493\n",
      "          std       32.247222\n",
      "          min        6.858300\n",
      "          25%        7.750000\n",
      "          50%        8.050000\n",
      "          75%       25.466700\n",
      "          max      227.525000\n",
      "Young     count     69.000000\n",
      "          mean      31.536352\n",
      "          std       26.425362\n",
      "          min        8.516700\n",
      "          25%       18.787500\n",
      "          50%       27.750000\n",
      "          75%       31.387500\n",
      "          max      151.550000\n",
      "Name: Fare, dtype: float64\n",
      "\n",
      "Mean Fare per passenger age category and class\n",
      "AgeCat    Pclass\n",
      "Adult     1          88.591311\n",
      "          2          20.854078\n",
      "          3          11.340523\n",
      "Old       1          58.428208\n",
      "          2          10.500000\n",
      "          3           7.820000\n",
      "Teenager  1         122.537500\n",
      "          2          21.172567\n",
      "          3          13.414589\n",
      "Unknow    1          64.877079\n",
      "          2          17.452500\n",
      "          3          14.840041\n",
      "Young     1         126.239575\n",
      "          2          28.740200\n",
      "          3          24.634721\n",
      "Name: Fare, dtype: float64\n",
      "\n"
     ]
    }
   ],
   "source": [
    "# We exclude passenger that did not pay\n",
    "data= passengers[(passengers['Fare'] > 0)]\n",
    "\n",
    "print \"Fare statistics\"\n",
    "print data['Fare'].describe()\n",
    "print \n",
    "\n",
    "print \"Fare statistics per passenger class\"\n",
    "print data.groupby('Pclass')['Fare'].describe()\n",
    "print \n",
    "\n",
    "print \"Fare statistics per passenger age category\"\n",
    "print data.groupby('AgeCat')['Fare'].describe()\n",
    "print \n",
    "\n",
    "print \"Mean Fare per passenger age category and class\"\n",
    "print data.groupby(['AgeCat','Pclass'])['Fare'].mean()\n",
    "print "
   ]
  },
  {
   "cell_type": "code",
   "execution_count": 23,
   "metadata": {
    "collapsed": false
   },
   "outputs": [
    {
     "data": {
      "image/png": "[encoded data removed]",
      "text/plain": [
       "<matplotlib.figure.Figure at 0xde144a8>"
      ]
     },
     "metadata": {},
     "output_type": "display_data"
    }
   ],
   "source": [
    "fig, axes = plt.subplots(nrows=1, ncols=1)\n",
    "\n",
    "createhist(axes, data['Fare'], 20, \"Fare\",\"Nb of passenger\",\"Passenger distributioon\\nper fare\")\n",
    "    \n",
    "plt.tight_layout()\n",
    "plt.show()\n",
    "\n"
   ]
  },
  {
   "cell_type": "code",
   "execution_count": 24,
   "metadata": {
    "collapsed": false
   },
   "outputs": [
    {
     "data": {
      "image/png": "[encoded data removed]",
      "text/plain": [
       "<matplotlib.figure.Figure at 0xd56f048>"
      ]
     },
     "metadata": {},
     "output_type": "display_data"
    }
   ],
   "source": [
    "def createscatter(ax, datax, datay, colors, xlabel, ylabel, title, xmin, xmax, ymin, ymax):\n",
    "    chart = ax.scatter(datax, datay, c=colors, alpha = 1)\n",
    "    ax.legend(prop={'size': 10})\n",
    "    ax.set_xlabel(xlabel, fontsize=10)\n",
    "    ax.set_ylabel(ylabel, fontsize=10)\n",
    "    ax.set_title(title, fontsize=12)\n",
    "    ax.set_xlim(xmin,  xmax)\n",
    "    ax.set_ylim(ymin,  ymax)\n",
    "    return chart\n",
    "\n",
    "fig, axes = plt.subplots(nrows=1, ncols=1)\n",
    "\n",
    "# we exlude from the data set passenger without a valid Age (AgeCat == Unknown)\n",
    "datafare = data['Fare'][(data['AgeCat'] != 'Unknown')]\n",
    "dataage = data['Age'][(data['AgeCat'] != 'Unknown')]\n",
    "s2 = createscatter(axes,datafare[(data['Survived'] == 0) & (data['Pclass'] == 3)], dataage[(data['Survived'] == 0) & (data['Pclass'] == 3)], \"gray\",\"Fare\",\"Age\",\"Fare vs Age\",0,100,0,80)\n",
    "s1 = createscatter(axes,datafare[(data['Survived'] == 1) & (data['Pclass'] == 3)], dataage[(data['Survived'] == 1) & (data['Pclass'] == 3)], \"white\",\"Fare\",\"Age\",\"Fare vs Age\",0,100,0,80)\n",
    "\n",
    "plt.legend((s1,s2),('Survived', 'Died'),scatterpoints=1,loc='upper right',ncol=3,fontsize=8)\n",
    "\n",
    "plt.show()\n"
   ]
  },
  {
   "cell_type": "markdown",
   "metadata": {},
   "source": [
    "This chart focuses on class 3 passengers. It shows Age vs Fare and indicated if passenger survived or not.\n",
    "\n",
    "We see that survival were mostly under 35 with low Fare.\n"
   ]
  },
  {
   "cell_type": "markdown",
   "metadata": {},
   "source": [
    "# Question 5 conclusion\n",
    "\n",
    "The average fare is 32 (currency?) but 50% of the passengers paid less than 14.5 (currency?).\n",
    "\n",
    "We can also see that some limited people paid a huge fare (around 500) compared to other. We would need to investigate if this is a data quality issue or real information.\n",
    "\n",
    "There is no major fare differencies between age catgories. \n",
    "We can identify a major fare differences between passenger class. This point can be easily understood.\n",
    "For 3rd class passengers, we notice a maximum price of 69.55 which is not so different with the maximum 2nd class fare (7.5). This point needs further investigation to understand if we also get a data quality issue there.\n",
    "\n",
    "The mean fare for young and teenager is greater than the mean adult fare whatever the passenger class is. It could be interesting to understand what was the exact White Start Line fare policy.\n",
    "\n",
    "We also saw that 3rd class survival were mostly under 35 with low Fare. It could be interesting to try to understand why we get this kind of output. \n"
   ]
  },
  {
   "cell_type": "markdown",
   "metadata": {
    "collapsed": false
   },
   "source": [
    "# Conclusion\n",
    "\n",
    "We performed some statistics on Titanic passengers information.\n",
    "We can see some interesting information.\n",
    "\n",
    "We saw that better the class was, better the survival rate is. We also saw that 1st class passenger were over-represented in the survival population. It could be interesting having a look at the accident report in order to understand why we get these results.\n",
    "\n",
    "When looking to age, we saw a bigger dying rate for tenager compared to the adult one. This result looks very strange, and the accident report could be valuable in order to understand this strange statistics.\n",
    "\n",
    "When looking to fares, we basically have coherent information, but we identified some data points (high fare) which need further invesgation to see if we do not have data quality issues.\n",
    "\n",
    "\n",
    "Nevertheless, we notice we are working on a data sample. We have only a sample of Titanic passenger data (892 over 2224 people). We do not know how this sample was created and if it has any biaised in it.\n",
    "It means we need to be cautious with the results.\n",
    "\n",
    "It could be better to work on the full data set. It could also be usefull to add additional data within the data set. For instance, having information about the fact that the person was a crew member or a passenger could be usefull.\n",
    "\n",
    "\n",
    "\n"
   ]
  },
  {
   "cell_type": "markdown",
   "metadata": {},
   "source": [
    "# Reference\n",
    "\n",
    "In order to perform this project, I used to following information sources:\n",
    "* Pandas official website: http://pandas.pydata.org/\n",
    "* Matplotlib official website: http://matplotlib.org/\n",
    "* Different forums but mainly stackoverflow : http://stackoverflow.com/\n",
    "\n"
   ]
  }
 ],
 "metadata": {
  "anaconda-cloud": {},
  "kernelspec": {
   "display_name": "Python [default]",
   "language": "python",
   "name": "python2"
  },
  "language_info": {
   "codemirror_mode": {
    "name": "ipython",
    "version": 2
   },
   "file_extension": ".py",
   "mimetype": "text/x-python",
   "name": "python",
   "nbconvert_exporter": "python",
   "pygments_lexer": "ipython2",
   "version": "2.7.12"
  }
 },
 "nbformat": 4,
 "nbformat_minor": 1
}
